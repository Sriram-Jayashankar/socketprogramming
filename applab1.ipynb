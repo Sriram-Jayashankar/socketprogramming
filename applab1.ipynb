{
 "cells": [
  {
   "cell_type": "markdown",
   "metadata": {},
   "source": [
    "Create a list which contains[1,2,3,4,5]then do the following:\n",
    "a. Append 6 to the list\n",
    "b. Make the copy of the list using copy()\n",
    "c. Empty the list using clear()."
   ]
  },
  {
   "cell_type": "code",
   "execution_count": 6,
   "metadata": {},
   "outputs": [
    {
     "name": "stdout",
     "output_type": "stream",
     "text": [
      "[1, 2, 3, 4, 5, 6]\n",
      "[1, 2, 3, 4, 5, 6]\n",
      "[]\n"
     ]
    }
   ],
   "source": [
    "list=[1,2,3,4,5]\n",
    "#a\n",
    "list.append(6)\n",
    "print(list)\n",
    "#b\n",
    "list2=list.copy()\n",
    "print(list2)\n",
    "#c\n",
    "list2.clear()\n",
    "print(list2)"
   ]
  },
  {
   "cell_type": "markdown",
   "metadata": {},
   "source": [
    "Create list a = [1,1,1,3,3,3,4,4,4,4,5,5,5,5,5] then do the following:\n",
    "a. Count number of times 5 is present in the list using count()\n",
    "b. Empty the list using clear()."
   ]
  },
  {
   "cell_type": "code",
   "execution_count": 11,
   "metadata": {},
   "outputs": [
    {
     "name": "stdout",
     "output_type": "stream",
     "text": [
      "5\n",
      "[]\n"
     ]
    }
   ],
   "source": [
    "a = [1,1,1,3,3,3,4,4,4,4,5,5,5,5,5]\n",
    "#a\n",
    "print(a.count(5))\n",
    "#b\n",
    "a.clear()\n",
    "print(a)"
   ]
  },
  {
   "cell_type": "markdown",
   "metadata": {},
   "source": [
    "Create list a = [1,2,3,4,5]and update the code to get the following output\n",
    "[1,2,3,4,5,6,7,8,9,10]\n",
    "Hint extend() and range()"
   ]
  },
  {
   "cell_type": "code",
   "execution_count": 14,
   "metadata": {},
   "outputs": [
    {
     "name": "stdout",
     "output_type": "stream",
     "text": [
      "[1, 2, 3, 4, 5, 6, 7, 8, 9, 10]\n"
     ]
    }
   ],
   "source": [
    "a = [1,2,3,4,5]\n",
    "for i in range(5):\n",
    "    a.append(a[i]+5)\n",
    "print(a)"
   ]
  },
  {
   "cell_type": "markdown",
   "metadata": {},
   "source": [
    "Create list which stores: a = ['ML’, &#39;python&#39;, &#39;data science&#39;] then do the following:\n",
    "a. Insert 'AI’ at index 4 using insert()\n",
    "b. Retrieve index of 'python’ using index()"
   ]
  },
  {
   "cell_type": "code",
   "execution_count": 17,
   "metadata": {},
   "outputs": [
    {
     "name": "stdout",
     "output_type": "stream",
     "text": [
      "['ML', 'python', 'data science', 'AI']\n",
      "1\n"
     ]
    }
   ],
   "source": [
    "a = ['ML', 'python', 'data science']\n",
    "#a\n",
    "a.insert(4,'AI')\n",
    "print(a)\n",
    "#b\n",
    "print(a.index('python'))"
   ]
  },
  {
   "cell_type": "markdown",
   "metadata": {},
   "source": [
    "Create list which stores: a = [3,1,2,6,4,5,9,6,7,8]then do the following:\n",
    "a. Sort the list using sort().\n",
    "b. Reverse the list using reverse().\n",
    "c. Pop the last element using pop()\n",
    "d. Remove element 3 from list using remove().\n",
    "e. Reverse the list using reverse().\n",
    "f. Empty the list using clear()."
   ]
  },
  {
   "cell_type": "code",
   "execution_count": 20,
   "metadata": {},
   "outputs": [
    {
     "name": "stdout",
     "output_type": "stream",
     "text": [
      "[3, 1, 2, 6, 4, 5, 9, 6, 7, 8]\n",
      "after sorting [1, 2, 3, 4, 5, 6, 6, 7, 8, 9]\n",
      "\n",
      "after reversing [9, 8, 7, 6, 6, 5, 4, 3, 2, 1]\n",
      "\n",
      "after pop [9, 8, 7, 6, 6, 5, 4, 3, 2]\n",
      "\n",
      "after removing 3 [9, 8, 7, 6, 6, 5, 4, 2]\n",
      "after reversing [2, 4, 5, 6, 6, 7, 8, 9]\n",
      "after clearing []\n"
     ]
    }
   ],
   "source": [
    "a = [3,1,2,6,4,5,9,6,7,8]\n",
    "#a\n",
    "print(a)\n",
    "a.sort()\n",
    "print(f'after sorting {a}\\n')\n",
    "#b\n",
    "a.reverse()\n",
    "print(f'after reversing {a}\\n')\n",
    "#c\n",
    "a.pop()\n",
    "print(f'after pop {a}\\n')\n",
    "#d\n",
    "a.remove(3)\n",
    "print(f'after removing 3 {a}')\n",
    "#e\n",
    "a.reverse()\n",
    "print(f'after reversing {a}')\n",
    "#f\n",
    "a.clear()\n",
    "print(f'after clearing {a}')\n",
    "\n",
    "\n",
    "\n"
   ]
  },
  {
   "cell_type": "markdown",
   "metadata": {},
   "source": [
    "[‘ML’,’DL’,’APP’,’C’]."
   ]
  },
  {
   "cell_type": "code",
   "execution_count": 1,
   "metadata": {},
   "outputs": [
    {
     "name": "stdout",
     "output_type": "stream",
     "text": [
      "ML\n",
      "['ML', 'DL', 'APP', 'C', 'C++', 'C']\n",
      "C++\n",
      "['ML', 'DL', 'APP', 'C', 'C++', 'C', [2, 0, 1, 5]]\n",
      "D\n",
      "[2, 0, 1, 5]\n"
     ]
    }
   ],
   "source": [
    "a=['ML','DL','APP','C']\n",
    "print(a[0])\n",
    "a.append('C++')\n",
    "a.append('C')\n",
    "print(a)\n",
    "print(a[a.index('C++')])\n",
    "a.append([2,0,1,5])\n",
    "print(a)\n",
    "print(a[a.index('DL')][0])\n",
    "print(a[a.index([2,0,1,5])])"
   ]
  },
  {
   "cell_type": "code",
   "execution_count": null,
   "metadata": {},
   "outputs": [],
   "source": []
  }
 ],
 "metadata": {
  "kernelspec": {
   "display_name": "Python 3",
   "language": "python",
   "name": "python3"
  },
  "language_info": {
   "codemirror_mode": {
    "name": "ipython",
    "version": 3
   },
   "file_extension": ".py",
   "mimetype": "text/x-python",
   "name": "python",
   "nbconvert_exporter": "python",
   "pygments_lexer": "ipython3",
   "version": "3.11.3"
  }
 },
 "nbformat": 4,
 "nbformat_minor": 2
}
